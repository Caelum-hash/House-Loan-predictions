{
  "cells": [
    {
      "cell_type": "markdown",
      "metadata": {
        "id": "dX2VZ2awV3au"
      },
      "source": [
        "# Data cleaning"
      ]
    },
    {
      "cell_type": "markdown",
      "metadata": {
        "id": "dvUQKSddzewe"
      },
      "source": [
        "This is a dataset about loan amount for which a customer can request a bank with his/her collateral house.\n",
        "\n",
        "* Gender: Gender of customer requesting for a loan ('F' or 'M').\n",
        "* Age: Age of customer requesting for a loan (non-negative values).\n",
        "* Income (USD): Income of customer requesting for a loan (non-negative values).\n",
        "* Income Stability: Income stability of customer requesting for a loan (\"Low\" or \"High\").\n",
        "* Property Age: Age of the property (non-negative number of days).\n",
        "* Property Location: Location of the property (\"Rural\", \"Urban\", and \"Semi-Urban\").\n",
        "* Property Price: Price of the property (USD).\n",
        "* Loan Sanction Amount (USD): Amount of loan the customer can request for (USD, target value)."
      ]
    },
    {
      "cell_type": "code",
      "execution_count": 2,
      "metadata": {
        "colab": {
          "base_uri": "https://localhost:8080/",
          "height": 261
        },
        "id": "v6gXJv9cWC3z",
        "outputId": "99e429dc-f2e1-425f-99e9-3f2df4e49ad3"
      },
      "outputs": [
        {
          "data": {
            "text/html": [
              "<div>\n",
              "<style scoped>\n",
              "    .dataframe tbody tr th:only-of-type {\n",
              "        vertical-align: middle;\n",
              "    }\n",
              "\n",
              "    .dataframe tbody tr th {\n",
              "        vertical-align: top;\n",
              "    }\n",
              "\n",
              "    .dataframe thead th {\n",
              "        text-align: right;\n",
              "    }\n",
              "</style>\n",
              "<table border=\"1\" class=\"dataframe\">\n",
              "  <thead>\n",
              "    <tr style=\"text-align: right;\">\n",
              "      <th></th>\n",
              "      <th>Gender</th>\n",
              "      <th>Age</th>\n",
              "      <th>Income (USD)</th>\n",
              "      <th>Income Stability</th>\n",
              "      <th>Property Age</th>\n",
              "      <th>Property Location</th>\n",
              "      <th>Property Price</th>\n",
              "      <th>Loan Sanction Amount (USD)</th>\n",
              "    </tr>\n",
              "  </thead>\n",
              "  <tbody>\n",
              "    <tr>\n",
              "      <th>0</th>\n",
              "      <td>F</td>\n",
              "      <td>19</td>\n",
              "      <td>1641.25</td>\n",
              "      <td>Low</td>\n",
              "      <td>1651.25</td>\n",
              "      <td>Rural</td>\n",
              "      <td>59641.82</td>\n",
              "      <td>21026.420753</td>\n",
              "    </tr>\n",
              "    <tr>\n",
              "      <th>1</th>\n",
              "      <td>M</td>\n",
              "      <td>29</td>\n",
              "      <td>1989.71</td>\n",
              "      <td>Low</td>\n",
              "      <td>1990.71</td>\n",
              "      <td>Urban</td>\n",
              "      <td>179858.51</td>\n",
              "      <td>60595.183366</td>\n",
              "    </tr>\n",
              "    <tr>\n",
              "      <th>2</th>\n",
              "      <td>F</td>\n",
              "      <td>37</td>\n",
              "      <td>1849.91</td>\n",
              "      <td>Low</td>\n",
              "      <td>1856.91</td>\n",
              "      <td>Rural</td>\n",
              "      <td>117297.62</td>\n",
              "      <td>39181.648002</td>\n",
              "    </tr>\n",
              "    <tr>\n",
              "      <th>3</th>\n",
              "      <td>M</td>\n",
              "      <td>65</td>\n",
              "      <td>2735.18</td>\n",
              "      <td>High</td>\n",
              "      <td>2747.18</td>\n",
              "      <td>Rural</td>\n",
              "      <td>354417.72</td>\n",
              "      <td>128497.710865</td>\n",
              "    </tr>\n",
              "    <tr>\n",
              "      <th>4</th>\n",
              "      <td>F</td>\n",
              "      <td>62</td>\n",
              "      <td>4741.78</td>\n",
              "      <td>High</td>\n",
              "      <td>4740.78</td>\n",
              "      <td>Urban</td>\n",
              "      <td>82049.80</td>\n",
              "      <td>39386.919336</td>\n",
              "    </tr>\n",
              "  </tbody>\n",
              "</table>\n",
              "</div>"
            ],
            "text/plain": [
              "  Gender  Age  Income (USD) Income Stability  Property Age Property Location  \\\n",
              "0      F   19       1641.25              Low       1651.25             Rural   \n",
              "1      M   29       1989.71              Low       1990.71             Urban   \n",
              "2      F   37       1849.91              Low       1856.91             Rural   \n",
              "3      M   65       2735.18             High       2747.18             Rural   \n",
              "4      F   62       4741.78             High       4740.78             Urban   \n",
              "\n",
              "   Property Price  Loan Sanction Amount (USD)  \n",
              "0        59641.82                21026.420753  \n",
              "1       179858.51                60595.183366  \n",
              "2       117297.62                39181.648002  \n",
              "3       354417.72               128497.710865  \n",
              "4        82049.80                39386.919336  "
            ]
          },
          "execution_count": 2,
          "metadata": {},
          "output_type": "execute_result"
        }
      ],
      "source": [
        "import numpy as np\n",
        "import pandas as pd\n",
        "import matplotlib.pyplot as plt\n",
        "import seaborn as sns\n",
        "\n",
        "# Load and display data\n",
        "data = pd.read_csv(r\"C:\\Users\\thaia\\Downloads\\Linear_Regression\\Data\\house_loan.csv\")\n",
        "data.head()"
      ]
    },
    {
      "cell_type": "code",
      "execution_count": 3,
      "metadata": {
        "colab": {
          "base_uri": "https://localhost:8080/",
          "height": 317
        },
        "id": "tU2NkE74WWIL",
        "outputId": "42acda7a-937f-4fdd-e41b-2dcab9f94c01"
      },
      "outputs": [
        {
          "data": {
            "text/html": [
              "<div>\n",
              "<style scoped>\n",
              "    .dataframe tbody tr th:only-of-type {\n",
              "        vertical-align: middle;\n",
              "    }\n",
              "\n",
              "    .dataframe tbody tr th {\n",
              "        vertical-align: top;\n",
              "    }\n",
              "\n",
              "    .dataframe thead th {\n",
              "        text-align: right;\n",
              "    }\n",
              "</style>\n",
              "<table border=\"1\" class=\"dataframe\">\n",
              "  <thead>\n",
              "    <tr style=\"text-align: right;\">\n",
              "      <th></th>\n",
              "      <th>Age</th>\n",
              "      <th>Income (USD)</th>\n",
              "      <th>Property Age</th>\n",
              "      <th>Property Price</th>\n",
              "      <th>Loan Sanction Amount (USD)</th>\n",
              "    </tr>\n",
              "  </thead>\n",
              "  <tbody>\n",
              "    <tr>\n",
              "      <th>count</th>\n",
              "      <td>47297.000000</td>\n",
              "      <td>47265.000000</td>\n",
              "      <td>47263.000000</td>\n",
              "      <td>4.729700e+04</td>\n",
              "      <td>47297.000000</td>\n",
              "    </tr>\n",
              "    <tr>\n",
              "      <th>mean</th>\n",
              "      <td>40.000063</td>\n",
              "      <td>2586.684384</td>\n",
              "      <td>2586.611058</td>\n",
              "      <td>1.350880e+05</td>\n",
              "      <td>46487.229765</td>\n",
              "    </tr>\n",
              "    <tr>\n",
              "      <th>std</th>\n",
              "      <td>16.086128</td>\n",
              "      <td>1558.768809</td>\n",
              "      <td>1558.842286</td>\n",
              "      <td>9.457875e+04</td>\n",
              "      <td>32549.905634</td>\n",
              "    </tr>\n",
              "    <tr>\n",
              "      <th>min</th>\n",
              "      <td>18.000000</td>\n",
              "      <td>372.700000</td>\n",
              "      <td>370.700000</td>\n",
              "      <td>7.859620e+03</td>\n",
              "      <td>254.586578</td>\n",
              "    </tr>\n",
              "    <tr>\n",
              "      <th>25%</th>\n",
              "      <td>24.000000</td>\n",
              "      <td>1653.740000</td>\n",
              "      <td>1652.820000</td>\n",
              "      <td>6.250408e+04</td>\n",
              "      <td>21782.822159</td>\n",
              "    </tr>\n",
              "    <tr>\n",
              "      <th>50%</th>\n",
              "      <td>40.000000</td>\n",
              "      <td>2245.480000</td>\n",
              "      <td>2244.810000</td>\n",
              "      <td>1.130936e+05</td>\n",
              "      <td>38822.132402</td>\n",
              "    </tr>\n",
              "    <tr>\n",
              "      <th>75%</th>\n",
              "      <td>55.000000</td>\n",
              "      <td>3128.560000</td>\n",
              "      <td>3128.380000</td>\n",
              "      <td>1.819546e+05</td>\n",
              "      <td>62612.236905</td>\n",
              "    </tr>\n",
              "    <tr>\n",
              "      <th>max</th>\n",
              "      <td>65.000000</td>\n",
              "      <td>54662.750000</td>\n",
              "      <td>54647.750000</td>\n",
              "      <td>1.077967e+06</td>\n",
              "      <td>366131.165218</td>\n",
              "    </tr>\n",
              "  </tbody>\n",
              "</table>\n",
              "</div>"
            ],
            "text/plain": [
              "                Age  Income (USD)  Property Age  Property Price  \\\n",
              "count  47297.000000  47265.000000  47263.000000    4.729700e+04   \n",
              "mean      40.000063   2586.684384   2586.611058    1.350880e+05   \n",
              "std       16.086128   1558.768809   1558.842286    9.457875e+04   \n",
              "min       18.000000    372.700000    370.700000    7.859620e+03   \n",
              "25%       24.000000   1653.740000   1652.820000    6.250408e+04   \n",
              "50%       40.000000   2245.480000   2244.810000    1.130936e+05   \n",
              "75%       55.000000   3128.560000   3128.380000    1.819546e+05   \n",
              "max       65.000000  54662.750000  54647.750000    1.077967e+06   \n",
              "\n",
              "       Loan Sanction Amount (USD)  \n",
              "count                47297.000000  \n",
              "mean                 46487.229765  \n",
              "std                  32549.905634  \n",
              "min                    254.586578  \n",
              "25%                  21782.822159  \n",
              "50%                  38822.132402  \n",
              "75%                  62612.236905  \n",
              "max                 366131.165218  "
            ]
          },
          "execution_count": 3,
          "metadata": {},
          "output_type": "execute_result"
        }
      ],
      "source": [
        "data.describe()"
      ]
    },
    {
      "cell_type": "code",
      "execution_count": 23,
      "metadata": {},
      "outputs": [
        {
          "data": {
            "text/plain": [
              "Index(['Gender', 'Age', 'Income (USD)', 'Income Stability', 'Property Age',\n",
              "       'Property Location', 'Property Price', 'Loan Sanction Amount (USD)',\n",
              "       'Debt-to-Income Ratio', 'loan-to-value Ratio',\n",
              "       'Property Price to Income Ratio'],\n",
              "      dtype='object')"
            ]
          },
          "execution_count": 23,
          "metadata": {},
          "output_type": "execute_result"
        }
      ],
      "source": [
        "data.columns"
      ]
    },
    {
      "cell_type": "code",
      "execution_count": 4,
      "metadata": {
        "colab": {
          "base_uri": "https://localhost:8080/",
          "height": 335
        },
        "id": "ZhQG1WoYWcBG",
        "outputId": "c3ca2120-d129-4b12-a1a2-59a24cc78414"
      },
      "outputs": [
        {
          "data": {
            "text/plain": [
              "Gender                        0\n",
              "Age                           0\n",
              "Income (USD)                  0\n",
              "Income Stability              0\n",
              "Property Age                  0\n",
              "Property Location             0\n",
              "Property Price                0\n",
              "Loan Sanction Amount (USD)    0\n",
              "dtype: int64"
            ]
          },
          "execution_count": 4,
          "metadata": {},
          "output_type": "execute_result"
        }
      ],
      "source": [
        "data=data.drop_duplicates()\n",
        "data=data.dropna()\n",
        "data.isnull().sum()"
      ]
    },
    {
      "cell_type": "code",
      "execution_count": 5,
      "metadata": {
        "colab": {
          "base_uri": "https://localhost:8080/"
        },
        "id": "--zal-Z4XGY3",
        "outputId": "f53e5900-e83d-413a-ba74-38d6c4eb7098"
      },
      "outputs": [
        {
          "name": "stdout",
          "output_type": "stream",
          "text": [
            "       Gender           Age  Income (USD) Income Stability  Property Age  \\\n",
            "count   47251  47251.000000  47251.000000            47251  47251.000000   \n",
            "unique      2           NaN           NaN                2           NaN   \n",
            "top         F           NaN           NaN              Low           NaN   \n",
            "freq    23646           NaN           NaN            43045           NaN   \n",
            "mean      NaN     40.005185   2586.498103              NaN   2586.467247   \n",
            "std       NaN     16.086562   1557.676706              NaN   1557.737980   \n",
            "min       NaN     18.000000    372.700000              NaN    370.700000   \n",
            "25%       NaN     25.000000   1653.735000              NaN   1652.820000   \n",
            "50%       NaN     40.000000   2245.460000              NaN   2244.810000   \n",
            "75%       NaN     55.000000   3128.610000              NaN   3128.570000   \n",
            "max       NaN     65.000000  54662.750000              NaN  54647.750000   \n",
            "\n",
            "       Property Location  Property Price  Loan Sanction Amount (USD)  \n",
            "count              47251    4.725100e+04                47251.000000  \n",
            "unique                 3             NaN                         NaN  \n",
            "top           Semi-Urban             NaN                         NaN  \n",
            "freq               16361             NaN                         NaN  \n",
            "mean                 NaN    1.350981e+05                46474.467952  \n",
            "std                  NaN    9.459404e+04                32545.590334  \n",
            "min                  NaN    7.859620e+03                  254.586578  \n",
            "25%                  NaN    6.251069e+04                21775.599375  \n",
            "50%                  NaN    1.130936e+05                38818.433721  \n",
            "75%                  NaN    1.819546e+05                62574.719455  \n",
            "max                  NaN    1.077967e+06               366131.165218  \n"
          ]
        }
      ],
      "source": [
        "print(data.describe(include=\"all\"))"
      ]
    },
    {
      "cell_type": "markdown",
      "metadata": {
        "id": "bBFOc4CUWdnd"
      },
      "source": [
        "# Coding tasks"
      ]
    },
    {
      "cell_type": "code",
      "execution_count": 6,
      "metadata": {
        "colab": {
          "base_uri": "https://localhost:8080/",
          "height": 295
        },
        "id": "rcS8fnDBfYzm",
        "outputId": "2482231b-9950-4f9d-ecd0-5e1b5ddc0194"
      },
      "outputs": [
        {
          "data": {
            "text/html": [
              "<div>\n",
              "<style scoped>\n",
              "    .dataframe tbody tr th:only-of-type {\n",
              "        vertical-align: middle;\n",
              "    }\n",
              "\n",
              "    .dataframe tbody tr th {\n",
              "        vertical-align: top;\n",
              "    }\n",
              "\n",
              "    .dataframe thead th {\n",
              "        text-align: right;\n",
              "    }\n",
              "</style>\n",
              "<table border=\"1\" class=\"dataframe\">\n",
              "  <thead>\n",
              "    <tr style=\"text-align: right;\">\n",
              "      <th></th>\n",
              "      <th>Age</th>\n",
              "      <th>Income (USD)</th>\n",
              "      <th>Property Age</th>\n",
              "      <th>Property Price</th>\n",
              "      <th>Loan Sanction Amount (USD)</th>\n",
              "      <th>Gender</th>\n",
              "      <th>Property Location (Semi-Urban vs Rural)</th>\n",
              "      <th>Property Location (Urban vs Rural)</th>\n",
              "      <th>Income Stability</th>\n",
              "    </tr>\n",
              "  </thead>\n",
              "  <tbody>\n",
              "    <tr>\n",
              "      <th>0</th>\n",
              "      <td>19.0</td>\n",
              "      <td>1641.25</td>\n",
              "      <td>1651.25</td>\n",
              "      <td>59641.82</td>\n",
              "      <td>21026.420753</td>\n",
              "      <td>0.0</td>\n",
              "      <td>0.0</td>\n",
              "      <td>0.0</td>\n",
              "      <td>1.0</td>\n",
              "    </tr>\n",
              "    <tr>\n",
              "      <th>1</th>\n",
              "      <td>29.0</td>\n",
              "      <td>1989.71</td>\n",
              "      <td>1990.71</td>\n",
              "      <td>179858.51</td>\n",
              "      <td>60595.183366</td>\n",
              "      <td>1.0</td>\n",
              "      <td>0.0</td>\n",
              "      <td>1.0</td>\n",
              "      <td>1.0</td>\n",
              "    </tr>\n",
              "    <tr>\n",
              "      <th>2</th>\n",
              "      <td>37.0</td>\n",
              "      <td>1849.91</td>\n",
              "      <td>1856.91</td>\n",
              "      <td>117297.62</td>\n",
              "      <td>39181.648002</td>\n",
              "      <td>0.0</td>\n",
              "      <td>0.0</td>\n",
              "      <td>0.0</td>\n",
              "      <td>1.0</td>\n",
              "    </tr>\n",
              "    <tr>\n",
              "      <th>3</th>\n",
              "      <td>65.0</td>\n",
              "      <td>2735.18</td>\n",
              "      <td>2747.18</td>\n",
              "      <td>354417.72</td>\n",
              "      <td>128497.710865</td>\n",
              "      <td>1.0</td>\n",
              "      <td>0.0</td>\n",
              "      <td>0.0</td>\n",
              "      <td>0.0</td>\n",
              "    </tr>\n",
              "    <tr>\n",
              "      <th>4</th>\n",
              "      <td>62.0</td>\n",
              "      <td>4741.78</td>\n",
              "      <td>4740.78</td>\n",
              "      <td>82049.80</td>\n",
              "      <td>39386.919336</td>\n",
              "      <td>0.0</td>\n",
              "      <td>0.0</td>\n",
              "      <td>1.0</td>\n",
              "      <td>0.0</td>\n",
              "    </tr>\n",
              "  </tbody>\n",
              "</table>\n",
              "</div>"
            ],
            "text/plain": [
              "    Age  Income (USD)  Property Age  Property Price  \\\n",
              "0  19.0       1641.25       1651.25        59641.82   \n",
              "1  29.0       1989.71       1990.71       179858.51   \n",
              "2  37.0       1849.91       1856.91       117297.62   \n",
              "3  65.0       2735.18       2747.18       354417.72   \n",
              "4  62.0       4741.78       4740.78        82049.80   \n",
              "\n",
              "   Loan Sanction Amount (USD)  Gender  \\\n",
              "0                21026.420753     0.0   \n",
              "1                60595.183366     1.0   \n",
              "2                39181.648002     0.0   \n",
              "3               128497.710865     1.0   \n",
              "4                39386.919336     0.0   \n",
              "\n",
              "   Property Location (Semi-Urban vs Rural)  \\\n",
              "0                                      0.0   \n",
              "1                                      0.0   \n",
              "2                                      0.0   \n",
              "3                                      0.0   \n",
              "4                                      0.0   \n",
              "\n",
              "   Property Location (Urban vs Rural)  Income Stability  \n",
              "0                                 0.0               1.0  \n",
              "1                                 1.0               1.0  \n",
              "2                                 0.0               1.0  \n",
              "3                                 0.0               0.0  \n",
              "4                                 1.0               0.0  "
            ]
          },
          "execution_count": 6,
          "metadata": {},
          "output_type": "execute_result"
        }
      ],
      "source": [
        "#Pre-process data: Dealing with categorical data features\n",
        "from sklearn.preprocessing import OneHotEncoder\n",
        "\n",
        "# Grouping categorical features (and later replace them with encoded categorical columns)\n",
        "categorical_features = ['Gender', 'Property Location', 'Income Stability']\n",
        "\n",
        "# Create a OneHotEncoder object\n",
        "encoder = OneHotEncoder(handle_unknown='ignore', sparse_output=False, drop='first')\n",
        "\n",
        "# Fit and transform the encoder on the categorical features\n",
        "encoded_features = encoder.fit_transform(data[categorical_features])\n",
        "\n",
        "# Create a new DataFrame with the encoded features\n",
        "encoded_df = pd.DataFrame(encoded_features, columns=encoder.get_feature_names_out(categorical_features))\n",
        "\n",
        "# Concatenate the encoded DataFrame with the original DataFrame (excluding the original categorical columns)\n",
        "encoded_data = pd.concat([data.drop(categorical_features, axis=1), encoded_df], axis=1)\n",
        "# Now 'data_encoded' contains data with one-hot encoded categorical features.\n",
        "\n",
        "# Rename the categorical columns\n",
        "encoded_data=encoded_data.rename(columns={'Gender_M': 'Gender',\n",
        "                                         'Income Stability_Low':'Income Stability',\n",
        "                                          'Property Location_Semi-Urban':'Property Location (Semi-Urban vs Rural)',\n",
        "                                          'Property Location_Urban':'Property Location (Urban vs Rural)'})\n",
        "#Remove any false encoded data\n",
        "encoded_data = encoded_data.dropna()\n",
        "\n",
        "# Display the new data\n",
        "encoded_data.head()"
      ]
    },
    {
      "cell_type": "markdown",
      "metadata": {
        "id": "C5mAFWzygyDx"
      },
      "source": [
        "At here, i want to scale the new categorical feature that:\n",
        "\n",
        "\n",
        "1.   Gender:\n",
        "* 'F' : 0\n",
        "* 'M' : 1\n",
        "2.   Income Stability:\n",
        "* 'Low' : 1\n",
        "* 'High' : 0\n",
        "3. Property Location:\n",
        "* Property Location (Semi-Urban to Rural):\n",
        "  * 'Semi-Urban' : 1\n",
        "  * 'Rural' : 0\n",
        "* Property Location (Urban to Rural):\n",
        "  * 'Urban' : 1\n",
        "  * 'Rural' : 0\n",
        "\n",
        "\n",
        "\n"
      ]
    },
    {
      "cell_type": "code",
      "execution_count": 8,
      "metadata": {
        "id": "J_UBHKQwidvO"
      },
      "outputs": [],
      "source": [
        "# Pre-process data: determine feature X and label Y\n",
        "# Get column names.\n",
        "columns = encoded_data.columns.tolist()\n",
        "\n",
        "# Remove 'Loan Sanction Amount (USD)' (label y column)\n",
        "columns.remove('Loan Sanction Amount (USD)')\n",
        "\n",
        "# Assign a variable to features x, including all columns except 'Price'\n",
        "feature_data = encoded_data[columns]\n",
        "\n",
        "# Assign 'Loan Sanction Amount (USD)' to label y\n",
        "target_data = encoded_data['Loan Sanction Amount (USD)']"
      ]
    },
    {
      "cell_type": "code",
      "execution_count": 9,
      "metadata": {
        "colab": {
          "base_uri": "https://localhost:8080/"
        },
        "id": "kJ7XG8eYlCo6",
        "outputId": "8744722f-794e-4811-d55a-540d95cee76f"
      },
      "outputs": [
        {
          "name": "stdout",
          "output_type": "stream",
          "text": [
            "Training:(37764, 8)\n",
            "Test:(9441, 8)\n"
          ]
        }
      ],
      "source": [
        "from sklearn.model_selection import train_test_split\n",
        "trainX,testX, trainY,testY = train_test_split(feature_data, target_data, train_size=0.8)\n",
        "print('Training:' + str(trainX.shape))     # Count data samples in Training set.\n",
        "print('Test:' + str(testX.shape))          # Count data samples in Test set."
      ]
    },
    {
      "cell_type": "code",
      "execution_count": 10,
      "metadata": {
        "colab": {
          "base_uri": "https://localhost:8080/"
        },
        "id": "BLEyYhO5mxg0",
        "outputId": "0cfed5da-eacf-49d6-9599-199b7873a23e"
      },
      "outputs": [
        {
          "name": "stdout",
          "output_type": "stream",
          "text": [
            "                                                 Value\n",
            "Coefficients                                          \n",
            "Age                                         468.369912\n",
            "Income (USD)                             179669.227347\n",
            "Property Age                            -131328.615965\n",
            "Property Price                           360555.067791\n",
            "Gender                                        6.760844\n",
            "Property Location (Semi-Urban vs Rural)     -10.846432\n",
            "Property Location (Urban vs Rural)           10.419382\n",
            "Income Stability                              5.691504\n",
            "Intercept                                  1410.800739\n"
          ]
        }
      ],
      "source": [
        "from sklearn.preprocessing import StandardScaler\n",
        "from sklearn.preprocessing import MinMaxScaler\n",
        "from sklearn.linear_model import LinearRegression\n",
        "from sklearn.pipeline import make_pipeline\n",
        "\n",
        "# Specify the model\n",
        "model1 = make_pipeline(StandardScaler(), LinearRegression())\n",
        "model2 = make_pipeline(MinMaxScaler(), LinearRegression())\n",
        "\n",
        "# Fit the model to the training data\n",
        "model2.fit(trainX, trainY)\n",
        "\n",
        "# Access the linear regression model within the pipeline\n",
        "linear_model = model2.named_steps['linearregression']  # This retrieves the LinearRegression model\n",
        "\n",
        "# Create a DataFrame for the coefficients\n",
        "table = pd.DataFrame({\n",
        "    'Coefficients': trainX.columns,\n",
        "    'Value': linear_model.coef_  # Access the coefficients\n",
        "})\n",
        "\n",
        "# Create a DataFrame for the intercept\n",
        "intercept_df = pd.DataFrame({'Coefficients': ['Intercept'], 'Value': [linear_model.intercept_]})\n",
        "\n",
        "# Concatenate the coefficients and intercept DataFrames\n",
        "table = pd.concat([table, intercept_df], ignore_index=True)\n",
        "\n",
        "# Set the 'Coefficients' column as the index (optional)\n",
        "table.set_index('Coefficients', inplace=True)\n",
        "\n",
        "# Display the table\n",
        "print(table)"
      ]
    },
    {
      "cell_type": "code",
      "execution_count": 11,
      "metadata": {
        "colab": {
          "base_uri": "https://localhost:8080/"
        },
        "id": "JP9IZkRY970-",
        "outputId": "c0ae4db9-ae09-4d7e-805f-337133d0e7a0"
      },
      "outputs": [
        {
          "name": "stdout",
          "output_type": "stream",
          "text": [
            "[77219.00496472725, 53544.74107310678, 17054.625877457343, 34129.848735231884, 32549.46978283634]\n",
            "[76663.41828861 45721.76186885 17578.22846895 33241.01756528\n",
            " 34654.47364883]\n"
          ]
        }
      ],
      "source": [
        "# Make prediction on the first 5 samples in the Test set.\n",
        "print(testY.head().tolist())\n",
        "print(model2.predict(testX[:5]))"
      ]
    },
    {
      "cell_type": "code",
      "execution_count": 12,
      "metadata": {
        "colab": {
          "base_uri": "https://localhost:8080/"
        },
        "id": "v7xRRllS9-Qe",
        "outputId": "cec8a436-971f-4406-9a75-d45bd45de4f7"
      },
      "outputs": [
        {
          "name": "stdout",
          "output_type": "stream",
          "text": [
            "1956.843132470082\n"
          ]
        }
      ],
      "source": [
        "#Calculating the mean absolute error\n",
        "from sklearn.metrics import mean_absolute_error\n",
        "Predictions = model2.predict(testX)\n",
        "MAE_score = mean_absolute_error(y_pred=Predictions, y_true=testY)\n",
        "print(MAE_score)"
      ]
    },
    {
      "cell_type": "code",
      "execution_count": 13,
      "metadata": {
        "colab": {
          "base_uri": "https://localhost:8080/"
        },
        "id": "2l0vbjPzvD8m",
        "outputId": "d6e869bb-3304-46f3-ee8e-f63697c8ec28"
      },
      "outputs": [
        {
          "name": "stdout",
          "output_type": "stream",
          "text": [
            "9380107.578077184\n"
          ]
        }
      ],
      "source": [
        "#Calculating the mean squared error\n",
        "from sklearn.metrics import mean_squared_error\n",
        "print(mean_squared_error(y_pred=Predictions, y_true=testY))"
      ]
    },
    {
      "cell_type": "markdown",
      "metadata": {
        "id": "Ai779hFt696t"
      },
      "source": [
        "# Open discussion questions"
      ]
    },
    {
      "cell_type": "markdown",
      "metadata": {
        "id": "LQU9GxyI74s3"
      },
      "source": [
        "### *Does income or income stability have a stronger influence on the loan sanction amount? For example, analyze the data to see if a higher income or a \"High\" income stability rating leads to a greater loan approval amount?*"
      ]
    },
    {
      "cell_type": "code",
      "execution_count": 14,
      "metadata": {
        "colab": {
          "base_uri": "https://localhost:8080/",
          "height": 310
        },
        "id": "UkX9SLfo7O2h",
        "outputId": "0c9d114b-059c-4b28-b6be-a71ed2f4c7d1"
      },
      "outputs": [
        {
          "data": {
            "image/png": "[encoded data removed]",
            "text/plain": [
              "<Figure size 1000x400 with 1 Axes>"
            ]
          },
          "metadata": {},
          "output_type": "display_data"
        }
      ],
      "source": [
        "plt.figure(figsize=(10, 4))\n",
        "sns.boxplot(data=data, x='Income Stability', y='Loan Sanction Amount (USD)', width = 0.5)\n",
        "plt.title('Loan Sanction Amount by Income Stability', size = 20)\n",
        "plt.xlabel('Income Stability', size = 15)\n",
        "plt.ylabel('Loan Sanction Amount (USD)', size = 15)\n",
        "plt.xticks(size = 15)\n",
        "plt.yticks(size = 15)\n",
        "plt.show()"
      ]
    },
    {
      "cell_type": "markdown",
      "metadata": {
        "id": "ky3lWTdo9HJU"
      },
      "source": [
        "Based on the plot, it give us the intuition that \"High\" income stability slightly have higher loan sanction ammount than \"low\" income stability"
      ]
    },
    {
      "cell_type": "code",
      "execution_count": 15,
      "metadata": {
        "colab": {
          "base_uri": "https://localhost:8080/"
        },
        "id": "WMcXTGvMA-zP",
        "outputId": "b43f0e65-c363-4486-e1df-af3d061aedb1"
      },
      "outputs": [
        {
          "name": "stdout",
          "output_type": "stream",
          "text": [
            "                          Value\n",
            "Coefficients                   \n",
            "Income (USD)      179669.227347\n",
            "Income Stability       5.691504\n"
          ]
        }
      ],
      "source": [
        "print(table.loc[['Income (USD)', 'Income Stability'],:])"
      ]
    },
    {
      "cell_type": "markdown",
      "metadata": {
        "id": "BEXGTFodM5hK"
      },
      "source": [
        "ANSWER:\n",
        "\n",
        "- Income Stability Coefficient is negative (while \"Low\" = 1 and \"High\" = 0 ) indicate that High Income Stability tends to have higher Loan sanction ammount than Low Income Stability.\n",
        "- The coefficient for Income (USD) is much larger in absolute value compared to the coefficient for Income Stability, indicating that Income (USD) has a stronger influence on the loan sanction amount than Income Stability."
      ]
    },
    {
      "cell_type": "markdown",
      "metadata": {
        "id": "5tU1RiRECCVS"
      },
      "source": []
    },
    {
      "cell_type": "markdown",
      "metadata": {
        "id": "S8m6YlCh9nab"
      },
      "source": [
        "### *Is there a significant difference in loan amounts based on property location? For example, compare the average loan amounts for properties in rural, urban, and semi-urban locations?*"
      ]
    },
    {
      "cell_type": "code",
      "execution_count": 16,
      "metadata": {
        "colab": {
          "base_uri": "https://localhost:8080/",
          "height": 365
        },
        "id": "R6Bf7LEQ74dW",
        "outputId": "d79df752-47ad-442a-f624-946a5ee4a603"
      },
      "outputs": [
        {
          "data": {
            "image/png": "[encoded data removed]",
            "text/plain": [
              "<Figure size 1200x600 with 1 Axes>"
            ]
          },
          "metadata": {},
          "output_type": "display_data"
        }
      ],
      "source": [
        "plt.figure(figsize=(12, 6))\n",
        "bar_plot = sns.barplot(data=data, x='Property Location', y='Loan Sanction Amount (USD)', estimator='mean', width=0.5)\n",
        "plt.title('Average Loan Sanction Amount by Property Location',size = 20)\n",
        "plt.xlabel('Property Location',size = 15)\n",
        "plt.ylabel('Average Loan Sanction Amount (USD)',size = 15)\n",
        "plt.xticks(size = 15)\n",
        "plt.yticks(size = 15)\n",
        "\n",
        "# Annotate the average values on the bars\n",
        "for p in bar_plot.patches:\n",
        "    # Get the height of each bar\n",
        "    height = p.get_height()\n",
        "    # Add text above each bar\n",
        "    bar_plot.text(\n",
        "        p.get_x() + p.get_width() / 2,  # x position: center of the bar\n",
        "        height,  # y position: the height of the bar\n",
        "        f'{height:.2f}',  # format the number to two decimal places\n",
        "        ha='center',  # horizontal alignment\n",
        "        va='bottom',  # vertical alignment\n",
        "        size=12  # font size\n",
        "    )\n",
        "plt.show()\n"
      ]
    },
    {
      "cell_type": "code",
      "execution_count": 17,
      "metadata": {
        "colab": {
          "base_uri": "https://localhost:8080/",
          "height": 209
        },
        "id": "9m9mLwBYCdJw",
        "outputId": "e41d4947-cdfd-44c2-b970-534bc334cedc"
      },
      "outputs": [
        {
          "data": {
            "text/plain": [
              "Property Location\n",
              "Rural         46624.866530\n",
              "Semi-Urban    46332.411167\n",
              "Urban         46469.563769\n",
              "Name: Loan Sanction Amount (USD), dtype: float64"
            ]
          },
          "execution_count": 17,
          "metadata": {},
          "output_type": "execute_result"
        }
      ],
      "source": [
        "data.groupby('Property Location')['Loan Sanction Amount (USD)'].mean()"
      ]
    },
    {
      "cell_type": "code",
      "execution_count": 18,
      "metadata": {
        "colab": {
          "base_uri": "https://localhost:8080/"
        },
        "id": "4qzgx7T9C0jt",
        "outputId": "67dc9ead-ef7d-4985-9d7b-de6e65df2eb6"
      },
      "outputs": [
        {
          "name": "stdout",
          "output_type": "stream",
          "text": [
            "                                                 Value\n",
            "Coefficients                                          \n",
            "Age                                         468.369912\n",
            "Income (USD)                             179669.227347\n",
            "Property Age                            -131328.615965\n",
            "Property Price                           360555.067791\n",
            "Gender                                        6.760844\n",
            "Property Location (Semi-Urban vs Rural)     -10.846432\n",
            "Property Location (Urban vs Rural)           10.419382\n",
            "Income Stability                              5.691504\n",
            "Intercept                                  1410.800739\n"
          ]
        }
      ],
      "source": [
        "print(table)"
      ]
    },
    {
      "cell_type": "markdown",
      "metadata": {
        "id": "M4uaP7-XR8BY"
      },
      "source": [
        "ANSWER\n",
        "\n",
        "The absolute value of coefficients of Property Location are really small compared to other coefficients which means that they affect the Loan sanction ammount insignificantly"
      ]
    },
    {
      "cell_type": "markdown",
      "metadata": {
        "id": "rFJPkjlUEMNT"
      },
      "source": [
        "### *Is there a gender bias in loan approvals? For example, investigate if there is a difference in average loan amounts offered to male and female applicants?*\n",
        "\n"
      ]
    },
    {
      "cell_type": "code",
      "execution_count": 19,
      "metadata": {
        "colab": {
          "base_uri": "https://localhost:8080/",
          "height": 425
        },
        "id": "9n-8HOj1EU8A",
        "outputId": "a217e453-b615-40f6-d963-97983c325f85"
      },
      "outputs": [
        {
          "data": {
            "image/png": "[encoded data removed]",
            "text/plain": [
              "<Figure size 1000x600 with 1 Axes>"
            ]
          },
          "metadata": {},
          "output_type": "display_data"
        }
      ],
      "source": [
        "# Create a new DataFrame with average loan amounts by gender\n",
        "gender_avg_loan = data.groupby('Gender')['Loan Sanction Amount (USD)'].mean().reset_index()\n",
        "\n",
        "# Create a bar plot without the palette parameter\n",
        "plt.figure(figsize=(10, 6))\n",
        "sns.barplot(data=gender_avg_loan, x='Gender', y='Loan Sanction Amount (USD)',width=0.5)\n",
        "\n",
        "# Add title and labels\n",
        "plt.title('Average Loan Sanction Amount by Gender', size=20)\n",
        "plt.xlabel('Gender', size=15)\n",
        "plt.ylabel('Average Loan Sanction Amount (USD)', size=15)\n",
        "\n",
        "# Add value annotations on top of the bars\n",
        "for index, row in gender_avg_loan.iterrows():\n",
        "    plt.text(index, row['Loan Sanction Amount (USD)'], f'{row[\"Loan Sanction Amount (USD)\"]:.2f}',\n",
        "             color='black', ha=\"center\", va=\"bottom\",size=12)\n",
        "\n",
        "plt.xticks(size=15)\n",
        "plt.yticks(size=15)\n",
        "plt.show()\n"
      ]
    },
    {
      "cell_type": "code",
      "execution_count": 20,
      "metadata": {
        "colab": {
          "base_uri": "https://localhost:8080/"
        },
        "id": "f0MkgeKKUYpA",
        "outputId": "e75ee572-34ef-4a84-c3f0-9e8d6f2fbf66"
      },
      "outputs": [
        {
          "name": "stdout",
          "output_type": "stream",
          "text": [
            "                 Value\n",
            "Coefficients          \n",
            "Gender        6.760844\n"
          ]
        }
      ],
      "source": [
        "print(table.loc[['Gender'],:])"
      ]
    },
    {
      "cell_type": "markdown",
      "metadata": {
        "id": "4vo2bcNxUqOX"
      },
      "source": [
        "ANSWER:\n",
        "- Chart show that Men have just slightly higher average loan sanction ammount than woman.\n",
        "- However the coefficient is negative (where \"M\" = 1 and \"F\" = 0) which indicate that being Female tend to have higher loan sanction ammount than Male but this is also very insignificant due to tiny value of coefficient.\n",
        "- The absolute value of the coefficient of this data feature is very small show that there is no certain bias between gender in loan approvals."
      ]
    },
    {
      "cell_type": "markdown",
      "metadata": {
        "id": "B5dbCszUEQNi"
      },
      "source": [
        "\n",
        "### *Are there any new features you could create from the existing data (e.g., loan-to-value ratio) that might be useful for analyzing loan amounts?*"
      ]
    },
    {
      "cell_type": "code",
      "execution_count": 21,
      "metadata": {},
      "outputs": [],
      "source": [
        "data['Debt-to-Income Ratio'] = data['Loan Sanction Amount (USD)'] / data['Income (USD)']"
      ]
    },
    {
      "cell_type": "code",
      "execution_count": 22,
      "metadata": {
        "colab": {
          "base_uri": "https://localhost:8080/",
          "height": 206
        },
        "id": "sGaEnA2KEUms",
        "outputId": "3e7d2fd9-7ee7-4d23-c378-032566b353a5"
      },
      "outputs": [
        {
          "data": {
            "text/html": [
              "<div>\n",
              "<style scoped>\n",
              "    .dataframe tbody tr th:only-of-type {\n",
              "        vertical-align: middle;\n",
              "    }\n",
              "\n",
              "    .dataframe tbody tr th {\n",
              "        vertical-align: top;\n",
              "    }\n",
              "\n",
              "    .dataframe thead th {\n",
              "        text-align: right;\n",
              "    }\n",
              "</style>\n",
              "<table border=\"1\" class=\"dataframe\">\n",
              "  <thead>\n",
              "    <tr style=\"text-align: right;\">\n",
              "      <th></th>\n",
              "      <th>loan-to-value Ratio</th>\n",
              "      <th>Debt-to-Income Ratio</th>\n",
              "      <th>Property Price to Income Ratio</th>\n",
              "    </tr>\n",
              "  </thead>\n",
              "  <tbody>\n",
              "    <tr>\n",
              "      <th>0</th>\n",
              "      <td>0.352545</td>\n",
              "      <td>12.811224</td>\n",
              "      <td>36.339266</td>\n",
              "    </tr>\n",
              "    <tr>\n",
              "      <th>1</th>\n",
              "      <td>0.336905</td>\n",
              "      <td>30.454279</td>\n",
              "      <td>90.394334</td>\n",
              "    </tr>\n",
              "    <tr>\n",
              "      <th>2</th>\n",
              "      <td>0.334036</td>\n",
              "      <td>21.180300</td>\n",
              "      <td>63.407204</td>\n",
              "    </tr>\n",
              "    <tr>\n",
              "      <th>3</th>\n",
              "      <td>0.362560</td>\n",
              "      <td>46.979618</td>\n",
              "      <td>129.577476</td>\n",
              "    </tr>\n",
              "    <tr>\n",
              "      <th>4</th>\n",
              "      <td>0.480037</td>\n",
              "      <td>8.306357</td>\n",
              "      <td>17.303586</td>\n",
              "    </tr>\n",
              "  </tbody>\n",
              "</table>\n",
              "</div>"
            ],
            "text/plain": [
              "   loan-to-value Ratio  Debt-to-Income Ratio  Property Price to Income Ratio\n",
              "0             0.352545             12.811224                       36.339266\n",
              "1             0.336905             30.454279                       90.394334\n",
              "2             0.334036             21.180300                       63.407204\n",
              "3             0.362560             46.979618                      129.577476\n",
              "4             0.480037              8.306357                       17.303586"
            ]
          },
          "execution_count": 22,
          "metadata": {},
          "output_type": "execute_result"
        }
      ],
      "source": [
        "# Calculate Loan-to-Value Ratio (LTV) and Debt-to-Income Ratio (DTI), Property Price to Income Ratio\n",
        "data['loan-to-value Ratio'] = data['Loan Sanction Amount (USD)'] / data['Property Price']\n",
        "data['Debt-to-Income Ratio'] = data['Loan Sanction Amount (USD)'] / data['Income (USD)']\n",
        "data['Property Price to Income Ratio'] = data['Property Price'] / data['Income (USD)']\n",
        "# Display the first few rows of the new columns\n",
        "data[['loan-to-value Ratio', 'Debt-to-Income Ratio','Property Price to Income Ratio']].head()"
      ]
    },
    {
      "cell_type": "markdown",
      "metadata": {
        "id": "d4GWbBonBh84"
      },
      "source": [
        "ANSWER:\n",
        "\n",
        "There are some new data features i can create from the dataset that might be useful for analyzing loan amounts:\n",
        "\n",
        "\n",
        "1.   Loan-to-Value (LTV) Ratio: represents the loan ammount relative to the property value.A high LTV typically indicates a riskier loan, as the loan amount is a large proportion of the property value.\n",
        "\n",
        "\n",
        "2.   Debt-to-Income (DIT) Ratio:\n",
        "measures how much of the borrower's income is needed to pay the loan debt. A higher DTI can indicate a borrower may have difficulty repaying the loan.\n",
        "\n",
        "\n",
        "3.  Property Price to Income (PPI) Ratio:\n",
        "Represents the affordability of the borrower. A high PPI indicate that a borrower may not likely to afford the property\n",
        "\n"
      ]
    },
    {
      "cell_type": "markdown",
      "metadata": {
        "id": "KMnj9HciESje"
      },
      "source": [
        "Beyond loan amount prediction, what other insights can be extracted or predicted from this dataset? For example, explore possibilities of using the data to understand borrower behavior, property market trends, or develop targeted marketing strategies."
      ]
    },
    {
      "cell_type": "markdown",
      "metadata": {
        "id": "5cS0yTkFFp5g"
      },
      "source": [
        "ANSWER:\n",
        "\n",
        "\n",
        "\n",
        "*   Borrower Behavior:\n",
        "  * Including external data features like Transaction history, Credit Score, this dataset can help lender estimate Borrower's Behaviors, the likelihood their repayment which help the lenders manage risk more effectively\n",
        "\n",
        "*   Property Market Trends:\n",
        "  * Using features like Property Location and Property Price and map the data to to geographic regions can visualiza the property values trends and lending patterns which can highlight the growth or decline of a specific area.\n",
        "  * Adding external timeline features can help to predict property values or assess trends in property prices over time\n",
        "* Targeted marketing strategies:\n",
        "  * Creating Borrower Segmentations that are more likely to respond to specific loan products (e.g., Marital-status, Number_of_family_members, Year_education, First_time hombuyer loans,...) can help designing marketing campaigns.\n",
        "  * Develops insight based on borrower sementations to know why borrowers are more likely to refinance or take out additional loans and use the information to improve borrower's retention efforts.\n",
        "\n",
        "\n"
      ]
    }
  ],
  "metadata": {
    "colab": {
      "collapsed_sections": [
        "rFJPkjlUEMNT",
        "B5dbCszUEQNi"
      ],
      "provenance": []
    },
    "kernelspec": {
      "display_name": "Python 3",
      "name": "python3"
    },
    "language_info": {
      "codemirror_mode": {
        "name": "ipython",
        "version": 3
      },
      "file_extension": ".py",
      "mimetype": "text/x-python",
      "name": "python",
      "nbconvert_exporter": "python",
      "pygments_lexer": "ipython3",
      "version": "3.13.7"
    }
  },
  "nbformat": 4,
  "nbformat_minor": 0
}
